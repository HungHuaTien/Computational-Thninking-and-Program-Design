{
  "cells": [
    {
      "cell_type": "markdown",
      "metadata": {
        "id": "Al4FdSg0A2mg"
      },
      "source": [
        "# （一）資料類型與變數賦值\n"
      ]
    },
    {
      "cell_type": "markdown",
      "metadata": {
        "id": "krRmXQdEByQY"
      },
      "source": [
        "## 挑戰題目:  電影魔球的相關資訊\n",
        "\n",
        "**魔球這部電影到底值不值得看？老闆請你把和這部電影相關的資訊整理出來讓他可以做判斷。**"
      ]
    },
    {
      "cell_type": "code",
      "execution_count": null,
      "metadata": {
        "id": "zubmb1zQFXBT",
        "colab": {
          "base_uri": "https://localhost:8080/"
        },
        "outputId": "0e07f077-3848-4dc6-e602-11e5fcfef48e"
      },
      "outputs": [
        {
          "output_type": "stream",
          "name": "stdout",
          "text": [
            "money ball\n",
            "2011\n",
            "133\n"
          ]
        }
      ],
      "source": [
        "## 1. 從IMBD電影資料庫找出要記錄的魔球電影相關資訊\n",
        "## 網址：https://www.imdb.com/title/tt1210166/\n",
        "## 相關資訊：電影名稱、放映日期......\n",
        "\n",
        "## 2. 在Python用變數儲存資訊\n",
        "movie_title = \"money ball\" # 電影名稱，文字\n",
        "release_year = \"2011\"      # 放映日期，文字\n",
        "movie_time_min = 133       # 片長、數字\n",
        "movie_rating = 7.6         # 評分、數字\n",
        " \n",
        "director = \"Bennett Miller\" # 導演、文字\n",
        "stars_1 = \"Brad Pitt\"       # 主要演員、文字\n",
        "stars_2 = \"Robin Wright\"    # 主要演員、文字\n",
        "stars_3 = \"Jonah Hill\"      # 主要演員、文字\n",
        " \n",
        "like = True # 喜不喜歡      # 按個讚、布林值\n",
        " \n",
        "## 3. 印出魔球電影的相關資訊\n",
        "print(movie_title)         # 螢幕列印\n",
        "print(release_year) \n",
        "print(movie_time_min)"
      ]
    },
    {
      "cell_type": "markdown",
      "metadata": {
        "id": "YK0jIk-gCI5A"
      },
      "source": [
        "## 1.資料類型 "
      ]
    },
    {
      "cell_type": "markdown",
      "metadata": {
        "id": "grLfv4WDFC1Y"
      },
      "source": [
        "### 1-1 數字、文字和布林\n",
        "\n",
        "資料分成數字numeric（整數integer、浮點數float）、文字character（字串string）與布林Boolean（True與False）三種類型。\n"
      ]
    },
    {
      "cell_type": "markdown",
      "metadata": {
        "id": "Eg28KZ_cCb-S"
      },
      "source": [
        "【範例：三種常見的資料類型】"
      ]
    },
    {
      "cell_type": "code",
      "execution_count": null,
      "metadata": {
        "id": "cvX0NcEdFC1Y"
      },
      "outputs": [],
      "source": [
        ""
      ]
    },
    {
      "cell_type": "markdown",
      "metadata": {
        "id": "E2RVXraCFC1Y"
      },
      "source": [
        "### 1-2  數值資料型態\n",
        "\n",
        "數字：數值資料型態分成整數(integer)與浮點數(float)兩種。"
      ]
    },
    {
      "cell_type": "markdown",
      "metadata": {
        "id": "VF6rHO_gFC1Z"
      },
      "source": [
        "【範例：數字】"
      ]
    },
    {
      "cell_type": "code",
      "execution_count": null,
      "metadata": {
        "id": "G8VebbqJFC1Z"
      },
      "outputs": [],
      "source": [
        ""
      ]
    },
    {
      "cell_type": "markdown",
      "metadata": {
        "id": "3rgYyQKgFC1Z"
      },
      "source": [
        "### 1-3  文字資料型態\n",
        "\n",
        "文字：字串(string)是由一連串有順序的字元所組成的序列(sequence)。 \n",
        "\n",
        "在Python中，我們使用單引號或雙引號來建立文字字串（str）。 \n",
        "\n",
        "- 要成雙成對的出現\n",
        "- 單雙引號不能混用。"
      ]
    },
    {
      "cell_type": "markdown",
      "metadata": {
        "id": "t9t5wtpwFC1Z"
      },
      "source": [
        "【範例：文字字串】"
      ]
    },
    {
      "cell_type": "code",
      "execution_count": null,
      "metadata": {
        "id": "mUmW17bfFC1a"
      },
      "outputs": [],
      "source": [
        ""
      ]
    },
    {
      "cell_type": "markdown",
      "metadata": {
        "id": "azKJcJHDFC1a"
      },
      "source": [
        "### 1-4 布林資料型態\n",
        "\n",
        "布林：布林值(Boolean value)就是邏輯值。\n",
        "\n",
        "布林值只有 True 與 False 兩個值。\n",
        "\n"
      ]
    },
    {
      "cell_type": "markdown",
      "metadata": {
        "id": "xNBBn2HnFC1a"
      },
      "source": [
        "【範例：布林值】"
      ]
    },
    {
      "cell_type": "code",
      "execution_count": null,
      "metadata": {
        "id": "DzFk4F5jFC1b"
      },
      "outputs": [],
      "source": [
        ""
      ]
    },
    {
      "cell_type": "markdown",
      "metadata": {
        "id": "E2hV7LZADInQ"
      },
      "source": [
        "## 2.變數賦值\n",
        "\n",
        "將輸入的資料，儲存在電腦的記憶體中，供日後處理資料與輸出資料之用。"
      ]
    },
    {
      "cell_type": "markdown",
      "metadata": {
        "id": "Od3t2o6yFC1c"
      },
      "source": [
        "### 2-1  觀念: 用變數儲存資料\n",
        "\n",
        "數賦值的語法：變數名字 = 變數值\n",
        "\n",
        "=> 變數一二三\n",
        "- 用一個特殊符號等號`=`建立變數；\n",
        "- 等號的兩邊要給東西，左邊給名字、右邊給資料；\n",
        "- 名字、等號、資料三樣物件表示變數。"
      ]
    },
    {
      "cell_type": "markdown",
      "metadata": {
        "id": "hbknTxstFC1c"
      },
      "source": [
        "### 2-2  建立變數\n",
        "\n",
        "【觀念】 將「變數」想像成一個「容器」，它是專門用來「儲放資料」的地方。 \n",
        "\n",
        "用等號`=`建立變數，要給名字與資料（變數名稱 = 變數的值)。"
      ]
    },
    {
      "cell_type": "markdown",
      "metadata": {
        "id": "76uPGOTeFC1c"
      },
      "source": [
        "【範例：變數賦值】"
      ]
    },
    {
      "cell_type": "code",
      "execution_count": null,
      "metadata": {
        "id": "xRWdt9w8FC1c"
      },
      "outputs": [],
      "source": [
        ""
      ]
    },
    {
      "cell_type": "markdown",
      "metadata": {
        "id": "ROnCRpDNFpYe"
      },
      "source": [
        "**【隨堂練習1】 請判斷下列程式是否正確？如果有誤，請說明其原因。** \n",
        "\n",
        "```{Python}\n",
        "Sum = 0\n",
        "A = 1\n",
        "2 = B \n",
        "A + B = Sum  \n",
        "A, B = 1, 2 \n",
        "```"
      ]
    },
    {
      "cell_type": "code",
      "execution_count": null,
      "metadata": {
        "id": "PUhkPTkdFfGe"
      },
      "outputs": [],
      "source": [
        ""
      ]
    },
    {
      "cell_type": "markdown",
      "metadata": {
        "id": "bo0woZYOFC1c"
      },
      "source": [
        "### 2-3 選個好名字\n",
        "\n",
        "變數命名要符合規定。\n",
        "\n",
        "- 變數的名字可以用數字、底線或英文字母。\n",
        "    - 不能以數字開頭。\n",
        "    - 除了底線，不能使用其他【特殊符號】做名字。\n",
        "        - 特殊符號例如`!、@、#、$...`\n",
        "    - 使用英文字母\n",
        "        - 不建議用中文命名變數。\n",
        "        - 注意英文字母大小寫，即A與a是不同的變數。 \n",
        "- 不能有空格、不能用Python【保留字】做為變數名稱。"
      ]
    },
    {
      "cell_type": "markdown",
      "metadata": {
        "id": "rV5JL472FvoE"
      },
      "source": [
        "**【隨堂練習2】 請判斷下列變數名稱是否正確？如果有誤，請說明其原因。** \n",
        "\n",
        "```{Python}\n",
        "_index\n",
        "data01\n",
        "width\n",
        "department_no\n",
        "\n",
        "3_pass     \n",
        "while     \n",
        "$money    \n",
        "pass word \n",
        "```"
      ]
    },
    {
      "cell_type": "code",
      "execution_count": null,
      "metadata": {
        "id": "Y3_YXEl8Fd7K"
      },
      "outputs": [],
      "source": [
        ""
      ]
    },
    {
      "cell_type": "markdown",
      "metadata": {
        "id": "vPHuZY2gBWEc"
      },
      "source": [
        "# （二）螢幕列印與資料處理"
      ]
    },
    {
      "cell_type": "markdown",
      "metadata": {
        "id": "KEt2-bf5CO21"
      },
      "source": [
        "## 3.螢幕列印（一）：資料"
      ]
    },
    {
      "cell_type": "markdown",
      "metadata": {
        "id": "owJDb0mCFC1e"
      },
      "source": [
        "### 3-1 輸出指令print()函數\n",
        "\n",
        "print()函數是指螢幕列印。\n",
        "\n",
        "- print函數的英文字母都是小寫。\n",
        "- print 後面要緊跟著小括號 ( ) 。\n",
        "- 括號中可以是字串、數字、變數名稱、運算式等等物件。"
      ]
    },
    {
      "cell_type": "markdown",
      "metadata": {
        "id": "lrLWEKcZFC1e"
      },
      "source": [
        "【範例：列印單一物件】"
      ]
    },
    {
      "cell_type": "code",
      "execution_count": null,
      "metadata": {
        "id": "k3RPhV8iFC1e"
      },
      "outputs": [],
      "source": [
        ""
      ]
    },
    {
      "cell_type": "markdown",
      "metadata": {
        "id": "bQwn7JJ1FC1e"
      },
      "source": [
        "【範例：列印多物件】"
      ]
    },
    {
      "cell_type": "code",
      "execution_count": null,
      "metadata": {
        "id": "9RxSsk0DFC1e"
      },
      "outputs": [],
      "source": [
        ""
      ]
    },
    {
      "cell_type": "markdown",
      "metadata": {
        "id": "As3wh7q-FQpZ"
      },
      "source": [
        "**【隨堂練習3：變數的螢幕列印】**\n",
        "\n",
        "```\n",
        "a = 33          # 整數型態\n",
        "b = 6.8         # 浮點數\n",
        "c = \"abc\"       # 文字串型態, 前後加雙引號\n",
        "d = True        # 布林資料\n",
        "```\n",
        "\n",
        "(1)列印出變數a, b, c, d的值\n",
        "\n",
        "(2)列印出兩變數相加a+b的值"
      ]
    },
    {
      "cell_type": "code",
      "execution_count": null,
      "metadata": {
        "id": "xq0dpjIAFC1f"
      },
      "outputs": [],
      "source": [
        ""
      ]
    },
    {
      "cell_type": "markdown",
      "metadata": {
        "id": "Jsb-KvclDNep"
      },
      "source": [
        "### 3-2.格式化列印\n",
        "\n",
        "**f-strings格式化輸出**\n",
        "\n",
        "- 從 Python3.6 ，列印多個物件時，有格式化文字字串`f-strings`的新方法，這個方法最簡單。\n",
        "\n",
        "- 在print()函數的小括號中，先打`f`，然後用成雙成對的（單）雙引號連接，裡面放要印出的文字字串，並將變數名稱放到大括號中，即可印出變數賦值的資料內容，如`{variable name}`。"
      ]
    },
    {
      "cell_type": "markdown",
      "metadata": {
        "id": "JeRfAi76FC1f"
      },
      "source": [
        "【範例：格式化列印Hello Francis】"
      ]
    },
    {
      "cell_type": "code",
      "execution_count": null,
      "metadata": {
        "id": "SUZ1VnRCFC1f"
      },
      "outputs": [],
      "source": [
        ""
      ]
    },
    {
      "cell_type": "markdown",
      "metadata": {
        "id": "8jrJwGXCFC1f"
      },
      "source": [
        "【範例：情緒變數】\n",
        "\n",
        "通常，我們的心情每天每分每秒都在變化。某天我們可能精力充沛，隔天我們可能感覺非常疲憊；或者今天是星期五，大多數的人都非常快樂！無論我們的心情如何，我們都可以使用變數保存它。"
      ]
    },
    {
      "cell_type": "code",
      "execution_count": null,
      "metadata": {
        "id": "PrRuqTzXFC1g"
      },
      "outputs": [],
      "source": [
        ""
      ]
    },
    {
      "cell_type": "markdown",
      "metadata": {
        "id": "WdcsAWHtF3vM"
      },
      "source": [
        "**【隨堂練習4】：滑稽故事**\n",
        "\n",
        "你玩過Mad Libs這種紙上遊戲嗎？這是一個有趣的遊戲，你要求另一個人給你各種類型單字，例如：顏色、數字、形容詞等，並且將這些單字填補到短篇故事中的空白處，當空白處填完畢後，你朗誦整段故事給他們聽，大多時候，這些故事真的變得很滑稽。\n",
        "\n",
        "大家該做什麼\n",
        "\n",
        "我們知道可以使用f字串替換字串的某些部分，編寫一個程式，輸出你那荒謬的、來自朋友的故事。\n",
        "\n",
        "以下是開始的步驟：\n",
        "\n",
        "Step 1: 創立一個新檔來儲存滑稽故事的程式。\n",
        "\n",
        "Step 2: 創立四到五個不同類型單字的變數。例如下面並儲存這些變數在檔案中。\n",
        "\n",
        "```\n",
        "name = \"\"\n",
        "adjective = \"\"\n",
        "favorite_snack = \"\"\n",
        "number = \"\"\n",
        "type_of_tree = \"\"\n",
        "```\n",
        "\n",
        "請注意，我們尚未指派變數的任何值。這裡就是之後填入朋友提供你的單字之處。\n",
        "\n",
        "Step3: 創立另一個變數保存你的滑稽故事，你可以使用此模版或編寫你自己的模版：\n",
        "\n",
        "```\n",
        "silly_story = f\"\"\"\n",
        "Hi, my name is {name}.\n",
        "I really like {adjective}{favorite_snack}!\n",
        "I like it so much, I try to eat it at least {number} times every day.\n",
        "It tastes even better when you eat it under a {type_of_tree}!\n",
        "\"\"\"\n",
        "```\n",
        "\n",
        "Step4: 最後，使用print()函式輸出你的滑稽故事：\n",
        "\n",
        "```\n",
        "print(silly_story)\n",
        "```\n",
        "\n",
        "這樣就完成了！現在去找朋友，要求他們給一些單字（你的變數）。將變數更改為朋友給你的單字，儲存程式然後執行它，看看你的滑稽故事。"
      ]
    },
    {
      "cell_type": "code",
      "execution_count": null,
      "metadata": {
        "id": "0mVPucTgISdW"
      },
      "outputs": [],
      "source": [
        ""
      ]
    },
    {
      "cell_type": "markdown",
      "metadata": {
        "id": "OeT8arvRFC1g"
      },
      "source": [
        "## 4.  資料的操作\n",
        "\n",
        "運算式(Expression)是由運算元(Operand)與運算子(Operator)所組成。"
      ]
    },
    {
      "cell_type": "markdown",
      "metadata": {
        "id": "SP_imGJBGE2r"
      },
      "source": [
        "### 4-1.資料的數學運算\n",
        "\n",
        "常用的數學運算符號有七種：加、減、乘、除、次方(**)、餘數(%)與商數(//)。\n",
        "\n",
        "數學運算的優先順和數學習慣相同：先乘除後加減，由左向右、有括號先算括號。\n",
        "\n",
        "- "
      ]
    },
    {
      "cell_type": "markdown",
      "metadata": {
        "id": "DGDMIr3hFC1h"
      },
      "source": [
        "【範例：七種算數運算子運算】"
      ]
    },
    {
      "cell_type": "code",
      "execution_count": null,
      "metadata": {
        "id": "Wrlyy24zFC1h"
      },
      "outputs": [],
      "source": [
        ""
      ]
    },
    {
      "cell_type": "markdown",
      "metadata": {
        "id": "CrMcvlVhG1NG"
      },
      "source": [
        "**隨堂練習5：統計人數**\n",
        "\n",
        "假期結束了，方老師問班上同學們：誰在寒假裡看過『上陽賦』？有一半同學舉手。又問：誰看過『哲仁皇后』？有五分之二的同學舉手。方老師發現，又7位同學兩部都看過。張小青去爺爺家，沒有網路，兩部劇都沒有看過。所以，他問老師：這兩部都沒看過的同學，要不要舉手讓您數一數呢？方老師笑說：不用了，我已經知道答案了。請問如果班上有50位同學，那麼多少人兩部都沒看過呢。"
      ]
    },
    {
      "cell_type": "code",
      "execution_count": null,
      "metadata": {
        "id": "i2W27PUnFC1h"
      },
      "outputs": [],
      "source": [
        ""
      ]
    },
    {
      "cell_type": "markdown",
      "metadata": {
        "id": "CIedqQPLGZiq"
      },
      "source": [
        "### 4-2.文字的處理\n",
        "\n",
        "使用 「+」 串接字串，可以將兩個字串合併成一個字串。\n",
        "\n",
        "使用「`*`」複製字串，執行「字串 * 2」會複製字串一份串接原來字串的後面，執行「字串 * 3」會複製字串兩份串接原來字串的後面，依此類推。|"
      ]
    },
    {
      "cell_type": "markdown",
      "metadata": {
        "id": "ZnrE_XnZFC1i"
      },
      "source": [
        "【範例：文字運算子的運算】"
      ]
    },
    {
      "cell_type": "code",
      "execution_count": null,
      "metadata": {
        "id": "g442FPFFFC1i"
      },
      "outputs": [],
      "source": [
        ""
      ]
    },
    {
      "cell_type": "markdown",
      "metadata": {
        "id": "xGPf5r7OGmq_"
      },
      "source": [
        "**【隨堂練習6】：真心話大冒險**\n",
        "\n",
        "玩家回答電腦提出的問題，然後用程式把玩家的回答連接起來，並且重複三次輸出。"
      ]
    },
    {
      "cell_type": "code",
      "execution_count": null,
      "metadata": {
        "id": "bSXg-NUEFC1i"
      },
      "outputs": [],
      "source": [
        ""
      ]
    },
    {
      "cell_type": "markdown",
      "source": [
        "索引(index)表示物件的位置。\n",
        "\n",
        "如果要存取某物件時，可以使用中括號[ ]，並在裡面指出是那個位置包含了我們想要的物件。即[位置索引]。\n",
        "\n",
        "- 正數索引值：由左到右索引，從0開始。\n",
        "- 負數索引值：由右到左索引，從-1開始。"
      ],
      "metadata": {
        "id": "V27UOEyjPE0d"
      }
    },
    {
      "cell_type": "markdown",
      "source": [
        "切片(slice)，挑選特定範圍物件所採取的方法。\n",
        "\n",
        "如果要挑選特定範圍的物件時，可以使用中括號[ ]，並在裡面透過一個冒號(:)字元，將分割範圍(slicing range)標明。\n",
        "\n",
        "(1) [起始索引：結束索引]。\n",
        "\n",
        "- 起始索引(start)，切片從這個索引開始。\n",
        "    - 沒有起始索引值，切片是從頭開始。\t\n",
        "- 冒號：告訴電腦，我們正在切片。\n",
        "- 結束索引(stop)，切片到這個索引結束。\n",
        "    - 沒有結束索引值，切片是到尾結束。\n",
        "\n",
        "(2) [起始索引：結束索引：間隔索引]"
      ],
      "metadata": {
        "id": "Qfir2LA6PW6u"
      }
    },
    {
      "cell_type": "markdown",
      "source": [
        "**【隨堂練習7】：索引與切片**\n",
        "\n",
        "Python 基礎必修課"
      ],
      "metadata": {
        "id": "KjrfZBm9P_Hy"
      }
    },
    {
      "cell_type": "code",
      "source": [
        ""
      ],
      "metadata": {
        "id": "bAVKGHk3PWQ6"
      },
      "execution_count": null,
      "outputs": []
    },
    {
      "cell_type": "markdown",
      "source": [
        "## 5.互動式輸入"
      ],
      "metadata": {
        "id": "0h5fEePcQOOL"
      }
    },
    {
      "cell_type": "markdown",
      "source": [
        "### 5-1 輸入指令 input()函數\n",
        "\n",
        "input()函數是使用者利用鍵盤輸入程式所需要的資料，把使用者所輸入的數值、字元或字串等資料傳送給指定的變數，並透過變數賦值的方式將資料儲存在電腦記憶體中。"
      ],
      "metadata": {
        "id": "iprKVQ-yQ0AB"
      }
    },
    {
      "cell_type": "markdown",
      "source": [
        "【範例：讓使用者輸入自己的名字】"
      ],
      "metadata": {
        "id": "1PppsA5RQ3HK"
      }
    },
    {
      "cell_type": "code",
      "source": [
        ""
      ],
      "metadata": {
        "id": "rP0CNiVaQ2Pf"
      },
      "execution_count": null,
      "outputs": []
    },
    {
      "cell_type": "markdown",
      "source": [
        "**【隨堂練習8】**\n",
        "\n",
        "請寫一段程式，輸出結果如下所示：\n",
        "\n",
        "```\n",
        "請輸入你的年齡： 18\n",
        "18\n",
        "```"
      ],
      "metadata": {
        "id": "5aaV48GARAEH"
      }
    },
    {
      "cell_type": "code",
      "source": [
        ""
      ],
      "metadata": {
        "id": "kTSAzz8bRF7J"
      },
      "execution_count": null,
      "outputs": []
    },
    {
      "cell_type": "markdown",
      "source": [
        "### 5-2 資料類型預設為字串\n",
        "\n",
        "input() 函數像打字機一樣。\n",
        "\n",
        "- 使用者輸入的資料是以文字字串的型態儲存。        \n",
        "- 即使輸入數字資料，電腦也是把整數與浮點數當成字串。 \n",
        "- 文字字串，不可以做數學運算，否則會得到錯誤訊息。     \n",
        "\n"
      ],
      "metadata": {
        "id": "lBmyb-cHRcPZ"
      }
    },
    {
      "cell_type": "markdown",
      "source": [
        "【範例：文字不能做數學運算】"
      ],
      "metadata": {
        "id": "7mMQkrCMRvEX"
      }
    },
    {
      "cell_type": "code",
      "source": [
        ""
      ],
      "metadata": {
        "id": "7AQryJ0-RuHN"
      },
      "execution_count": null,
      "outputs": []
    },
    {
      "cell_type": "markdown",
      "source": [
        "### 5-3 資料類型的轉換\n",
        "\n",
        "用下面的函數可以轉換資料類型。\n",
        "\n",
        "- `int()函數`：轉換純量為整數類型(integer)\n",
        "- `float()函數`：轉換純量為浮點數類型(float)\n",
        "- `str()函數`：轉換純量為文字類型(string)\n",
        "- `bool()函數`：轉換純量為布林類型(bool)"
      ],
      "metadata": {
        "id": "mtfplFf_R3Mi"
      }
    },
    {
      "cell_type": "markdown",
      "source": [
        "【範例：強制資料轉換】"
      ],
      "metadata": {
        "id": "AfI5tSRMSi55"
      }
    },
    {
      "cell_type": "code",
      "source": [
        ""
      ],
      "metadata": {
        "id": "eUFI1xF6Sh90"
      },
      "execution_count": 1,
      "outputs": []
    },
    {
      "cell_type": "markdown",
      "source": [
        "### 5-4 input()函數與數學運算\n",
        "\n",
        "不同資料類型有不同的運算方法。\n",
        "\n",
        "input()函數輸入的資料是文字字串；若要做數學運算，必須先強制轉換資料型態。"
      ],
      "metadata": {
        "id": "41Mnd-IXSttp"
      }
    },
    {
      "cell_type": "markdown",
      "source": [
        "【範例】: 請告訴我print()之後，電腦跑出total1, total2與total3這三個變數的答案是什麼？為什麼？？\n",
        "\n",
        "no1 = input(\"請輸入甲班同學的人數: \") \n",
        "no2 = input(\"請輸入乙班同學的人數: \") \n",
        "\n",
        "total1 = no1 + no2    \n",
        "print(total1)\n",
        "\n",
        "total2 = int(no1) + int(no2) \n",
        "print(total2)\n",
        "\n",
        "total3 = no1 +int(no2)   \n",
        "print(total3)"
      ],
      "metadata": {
        "id": "xsk31SjZTFHA"
      }
    },
    {
      "cell_type": "code",
      "source": [
        ""
      ],
      "metadata": {
        "id": "0LkopJwRTESS"
      },
      "execution_count": null,
      "outputs": []
    },
    {
      "cell_type": "markdown",
      "source": [
        "【範例：將文字轉數字作數學運算】\n"
      ],
      "metadata": {
        "id": "wusokx1FTQC-"
      }
    },
    {
      "cell_type": "code",
      "source": [
        ""
      ],
      "metadata": {
        "id": "S1u3OdNITjL_"
      },
      "execution_count": null,
      "outputs": []
    },
    {
      "cell_type": "markdown",
      "source": [
        "要使用int(), float(), eval()函式，將文字資料轉換成數值資料的型態。\n",
        "\n",
        "- `int()函數：`將字串轉成整數。\n",
        "- `float()函數:`將字串轉成浮點數。\n",
        "- `eval()函數：`將字串顯示成數值資料。(C語言的習慣）"
      ],
      "metadata": {
        "id": "VzCYYZBSTm-u"
      }
    },
    {
      "cell_type": "markdown",
      "source": [
        "【範例：三種強制轉換資料型態的函數】"
      ],
      "metadata": {
        "id": "03IYbssjTx_v"
      }
    },
    {
      "cell_type": "code",
      "source": [
        ""
      ],
      "metadata": {
        "id": "ZL61m4ofTwv2"
      },
      "execution_count": null,
      "outputs": []
    },
    {
      "cell_type": "markdown",
      "source": [
        "**【隨堂練習9】: 輸入資料做應用** \n",
        "\n",
        "請用input函數輸入產品的價格，有整數也有小數，然後列印漲價10元之後，產品的價格是多少？"
      ],
      "metadata": {
        "id": "od5J2hfrT9w8"
      }
    },
    {
      "cell_type": "code",
      "source": [
        ""
      ],
      "metadata": {
        "id": "pLWOE2_3UJMg"
      },
      "execution_count": null,
      "outputs": []
    },
    {
      "cell_type": "markdown",
      "source": [
        "## 6. 用電腦解決問題的四個階段\n",
        "\n",
        "- 階段一：Analysis - 運算思維。\n",
        "- 階段二 : Design - 程式設計/設計程式。\n",
        "- 階段三：Coding - 撰寫程式。\n",
        "- 階段四：Testing - 測試與除錯。"
      ],
      "metadata": {
        "id": "LDHOjNzNW3dL"
      }
    },
    {
      "cell_type": "markdown",
      "source": [
        "### 觀念說明\n",
        "\n",
        "- **前兩個階段是「不用電腦的規劃設計」**（分析問題，想出解決問題的方法，並且能夠一個步驟一個步驟地說清楚；在IPO的運作架構下，設計資料輸入處理輸出的方案）\n",
        "\n",
        "- **後兩個階段是「用電腦的實做執行」**，即編碼撰寫程式，測試並修正程式碼，確認所寫的程式執行無誤、並能夠解決問題。\n",
        "\n",
        "(1) 一般人認為「學寫程式」就是學會某一種程式語言的指令語法，接著鍵入各式指令到電腦中使電腦工作，便算完成程式發展的步驟。事實上，「撰寫程式碼」的工作只是「用電腦解決問題」的一部分而已。\n",
        "\n",
        "(2)對於學商管和學社會科學的人而言，最重要的部分不是「學會寫程式碼」，而是「運算思維與程式設計」。\n",
        "\n",
        "- 也就是，把解決問題的方法想出來，一個步驟一個步驟的條列清楚，而且做好讓電腦軟硬體處理的各種準備。\n",
        "    - 我們要用自己的專業知識與普通常識，把一個（商業）問題定義清楚，找到真正的問題點，確認這是一個具有（商業）價值的問題，值得（企業）花時間與金錢（資源）找出解決問題的方法。\n",
        "    - 然後再想想看，這個問題可不可以用電腦來處理，如何在軟硬體運作的Input-Process-Output架構下，利用電腦有效率地對資料進行運算處理。\n",
        "\n",
        "(3)對於所有的學生而言，花最多時間與精力學習的部分，的確是「撰寫程式」與「測試和除錯」。\n",
        "\n",
        "- 難學的是「運算思維」，是「程式設計」，「規劃設計」這部分是靠意會不能言傳的「領悟力」。\n",
        "- 難學的不是「指令語法」，不是「測試執行」，「實做執行」這部分其實是一分耕耘一分收穫，只要願意花時間和心力都可以學到一定的專業程度。學習任何語言是沒有捷徑。"
      ],
      "metadata": {
        "id": "UEExGtWDXLGO"
      }
    },
    {
      "cell_type": "markdown",
      "source": [
        "**【隨堂練習10】: 計算圓面積與圓周長**\n",
        "\n",
        "請設計一個程式計算圓面積與圓周長，依輸入的半徑計算圓面積與圓周長。"
      ],
      "metadata": {
        "id": "hXPpCzYUUKSg"
      }
    },
    {
      "cell_type": "code",
      "source": [
        ""
      ],
      "metadata": {
        "id": "vhHm9VJuUWZ-"
      },
      "execution_count": null,
      "outputs": []
    },
    {
      "cell_type": "markdown",
      "source": [
        " ☻彈性：攝氏轉華氏☻\n",
        "\n",
        "請設計一個程式將輸入的攝氏溫度轉成華氏溫度，轉換公式如下:華氏溫度= 攝氏溫度*9/5+32"
      ],
      "metadata": {
        "id": "iMzHAQXPUj2E"
      }
    },
    {
      "cell_type": "code",
      "source": [
        ""
      ],
      "metadata": {
        "id": "rr_62dHjU5iK"
      },
      "execution_count": null,
      "outputs": []
    },
    {
      "cell_type": "markdown",
      "source": [
        "**【隨堂練習11】: 服裝訂購系統**\n",
        "\n",
        "假設上衣300元、褲子350元與背心400元，使用者可以自行輸入三種服裝的數量，請設計一個程式計算訂購服裝的總金額。"
      ],
      "metadata": {
        "id": "wpHfqWi8UXAH"
      }
    },
    {
      "cell_type": "code",
      "source": [
        ""
      ],
      "metadata": {
        "id": "ZP9bM6jhU5Ct"
      },
      "execution_count": null,
      "outputs": []
    },
    {
      "cell_type": "markdown",
      "source": [
        "**【隨堂練習12】: 賣場買飲料**\n",
        "\n",
        "**為了刺激銷售量，賣場通常買一打會比買一罐便宜，假設一罐賣20元，一打賣200元，請設計一個程式計算買幾罐需花多少錢，若不足一打就個別買。**\n",
        "\n",
        "～預覽結果\n",
        "輸入購買飲料的罐數，如「30」，計算結果顯示在螢幕如下。\n",
        "請輸入購買飲料的罐數？30\n",
        "需花費 520"
      ],
      "metadata": {
        "id": "xteSV7FdU7jr"
      }
    },
    {
      "cell_type": "code",
      "source": [
        ""
      ],
      "metadata": {
        "id": "Wve5JrBgVFz3"
      },
      "execution_count": null,
      "outputs": []
    },
    {
      "cell_type": "markdown",
      "source": [
        "## 7. 運算思維四基石\n",
        "\n",
        "**(1)運算思維是一個思考的程序。**\n",
        "\n",
        "運算思維的目的是闡明問題，並呈現其解決方案，讓電腦（與人） 能夠有效率地執行。\n",
        "\n",
        "用電腦解決問題。人要能請電腦幫我們做事，得知道如何讓電腦去執行任務。除了熟悉指令之外，更需要的是瞭解撰寫程式背後的邏輯。**學習程式設計最重要的是學邏輯、學會思考的方式**。學習能快速發現問題，洞悉問題癥結，並找出解決之道；這樣才能應用學到的指令語法，用電腦解決問題。\n",
        "\n",
        "**(2) 運算思維四基石**\n",
        "\n",
        "Question: 請問運算思維包含哪幾個面向?\n",
        "\n",
        "**問題拆解(Decomposition) ＝>模式辨(Pattern Recognition)識 ＝>   抽象(Abstraction)化＝> 演算法(Algorithm)**\n",
        "\n",
        "我們可以從日常生活的問題開始，透過這四個技巧，培養運算思維的能力，想出解決問題的方法。"
      ],
      "metadata": {
        "id": "aJpuYeXCWse0"
      }
    },
    {
      "cell_type": "markdown",
      "source": [
        "## 8. 專題 - 打造你的聊天機器人 - 拆解問題\n",
        "\n",
        "哈囉，大家好。我叫Zyxo64，是一個聊天機器人。\n",
        "在嗜好與興趣方面，我很喜歡美食，也喜歡養動物。\n",
        "很高興有機會來到世新大學，請大家多多指教。\n",
        "\n"
      ],
      "metadata": {
        "id": "h7u-XAkCWRNi"
      }
    },
    {
      "cell_type": "code",
      "source": [
        ""
      ],
      "metadata": {
        "id": "NIiCaEGHYO5M"
      },
      "execution_count": null,
      "outputs": []
    },
    {
      "cell_type": "markdown",
      "source": [
        "嗨！妳好，請問大名？：**Francis**。\n",
        "*Francis*，很高興認識你。\n",
        "\n"
      ],
      "metadata": {
        "id": "4L17OFuiYZ1v"
      }
    },
    {
      "cell_type": "code",
      "source": [
        ""
      ],
      "metadata": {
        "id": "33BEtKGRYgt6"
      },
      "execution_count": null,
      "outputs": []
    },
    {
      "cell_type": "markdown",
      "source": [
        "抱歉，請問一下今年是西元2021年，那是民國幾年呢？：*110*。\n",
        "對！沒錯，謝謝妳！\n",
        "**Francis**，猜猜看我今年幾歲？ ：**18**。\n",
        "哇！你好聰明，我今年的確*18*。\n",
        "再82年我就100歲了。\n",
        "那時候是西元 2103年，也就是民國192年囉！\n",
        "\n"
      ],
      "metadata": {
        "id": "UVC7NMXCYirh"
      }
    },
    {
      "cell_type": "code",
      "source": [
        ""
      ],
      "metadata": {
        "id": "1x84xSr7YmcV"
      },
      "execution_count": null,
      "outputs": []
    },
    {
      "cell_type": "markdown",
      "source": [
        "我喜歡吃巧克力，也喜歡嘗試各種新食物。\n",
        "你呢？你最喜歡的食物是什麼？**:披薩**。\n",
        "我也喜歡 *披薩*。\n",
        "你多久吃一次 *披薩*？**：每天**。\n",
        "真有趣。不知道這樣對健康好不好。\n",
        "\n"
      ],
      "metadata": {
        "id": "f9XOq5vnYnHo"
      }
    },
    {
      "cell_type": "code",
      "source": [
        ""
      ],
      "metadata": {
        "id": "I0226_laYq0A"
      },
      "execution_count": null,
      "outputs": []
    },
    {
      "cell_type": "markdown",
      "source": [
        "我最喜歡的動物是長頸鹿。你呢？ **：烏龜**。\n",
        "我不喜歡*烏龜*！\n",
        "不知道 *烏龜* 喜不喜歡吃 *披薩*？\n",
        "\n"
      ],
      "metadata": {
        "id": "8dXgqD8vYrnf"
      }
    },
    {
      "cell_type": "code",
      "source": [
        ""
      ],
      "metadata": {
        "id": "hpiWVPqEYuda"
      },
      "execution_count": null,
      "outputs": []
    },
    {
      "cell_type": "markdown",
      "source": [
        "你今天的心情如何？ **：很開心**。\n",
        "可以告訴我你 *開心* 的原因嗎？**因為週末了！** \n",
        "\n",
        "\n"
      ],
      "metadata": {
        "id": "f89Y3QFUYvIB"
      }
    },
    {
      "cell_type": "code",
      "source": [
        ""
      ],
      "metadata": {
        "id": "jqtYtIQwYxQi"
      },
      "execution_count": null,
      "outputs": []
    },
    {
      "cell_type": "markdown",
      "source": [
        "祝你週末愉快！\n",
        "我喜歡跟你聊天，現在有點累了，改天再聊吧！！\n",
        "再見 *Francis*！！！"
      ],
      "metadata": {
        "id": "qWLcmx5KYx8y"
      }
    },
    {
      "cell_type": "code",
      "source": [
        ""
      ],
      "metadata": {
        "id": "kNQpq1JXYy4O"
      },
      "execution_count": null,
      "outputs": []
    }
  ],
  "metadata": {
    "colab": {
      "name": "A123456789_田弘華_基本程式設計_個人作業.ipynb",
      "provenance": []
    },
    "kernelspec": {
      "display_name": "Python 3",
      "language": "python",
      "name": "python3"
    },
    "language_info": {
      "codemirror_mode": {
        "name": "ipython",
        "version": 3
      },
      "file_extension": ".py",
      "mimetype": "text/x-python",
      "name": "python",
      "nbconvert_exporter": "python",
      "pygments_lexer": "ipython3",
      "version": "3.8.8"
    }
  },
  "nbformat": 4,
  "nbformat_minor": 0
}